{
 "cells": [
  {
   "cell_type": "code",
   "id": "initial_id",
   "metadata": {
    "collapsed": true,
    "ExecuteTime": {
     "end_time": "2025-03-31T11:58:17.237007Z",
     "start_time": "2025-03-31T11:58:17.234405Z"
    }
   },
   "source": [
    "import numpy as np\n",
    "import jax\n",
    "import jax.numpy as jnp\n",
    "import numpyro\n",
    "import numpyro.distributions as dist\n",
    "from numpyro.infer import MCMC, NUTS\n",
    "from numpyro.diagnostics import hpdi\n",
    "\n",
    "import patsy\n",
    "import seaborn as sns\n",
    "import matplotlib.pyplot as plt\n",
    "import arviz as az\n",
    "from BayesBrain import models,datasim,glm"
   ],
   "outputs": [],
   "execution_count": 4
  },
  {
   "metadata": {},
   "cell_type": "markdown",
   "source": "Make a data simulator",
   "id": "e1a9cbe34dc7f2a5"
  },
  {
   "metadata": {
    "ExecuteTime": {
     "end_time": "2025-03-31T11:58:21.607691Z",
     "start_time": "2025-03-31T11:58:21.605363Z"
    }
   },
   "cell_type": "code",
   "source": [
    "sims=datasim.simulate_poisson_grouped()\n",
    "X_dsgn=sims[0]\n",
    "Y=sims[1]"
   ],
   "id": "dfcc1253f4b2e03d",
   "outputs": [],
   "execution_count": 6
  },
  {
   "metadata": {
    "ExecuteTime": {
     "end_time": "2025-03-31T11:58:25.831455Z",
     "start_time": "2025-03-31T11:58:23.980877Z"
    }
   },
   "cell_type": "code",
   "source": [
    "#Make BayesBrain class\n",
    "# FIT WITH INTERACTIONS\n",
    "mod2fitall = glm.PoissonGLMbayes()\n",
    "\n",
    "mod2fitall.add_data(y=jnp.array(Y))\n",
    "\n",
    "# Learn smoothness from data\n",
    "mod2fitall.define_model(model='grouped_ard', basis_x_list=X_dsgn, S_list=None,\n",
    "                          tensor_basis_list=None, S_tensor_list=None)\n",
    "\n",
    "paramglm = {'fittype': 'vi', 'guide': 'normal', 'visteps': 30000, 'optimtype': 'scheduled'}\n",
    "mod2fitall.fit(params=paramglm,  fit_intercept=True, cauchy=0.1)\n",
    "\n",
    "#Got to fix post sampling checking to beta_i * lambda_ard[i]\n",
    "mod2fitall.sample_posterior(5000).summarize_posterior(90).coeff_relevance()\n"
   ],
   "id": "912ed16c66409d6e",
   "outputs": [
    {
     "name": "stderr",
     "output_type": "stream",
     "text": [
      "100%|██████████| 10000/10000 [00:01<00:00, 6466.67it/s, init loss: 14807749099520.0000, avg. loss [9501-10000]: 3631.0207]  \n"
     ]
    },
    {
     "data": {
      "text/plain": [
       "<GLM.glm.PoissonGLMbayes at 0x2a470d990>"
      ]
     },
     "execution_count": 7,
     "metadata": {},
     "output_type": "execute_result"
    }
   ],
   "execution_count": 7
  },
  {
   "metadata": {
    "ExecuteTime": {
     "end_time": "2025-03-31T11:58:42.541712Z",
     "start_time": "2025-03-31T11:58:42.539208Z"
    }
   },
   "cell_type": "code",
   "source": "print(mod2fitall.coef_keep)",
   "id": "2b9065d20e65fc1b",
   "outputs": [
    {
     "data": {
      "text/plain": [
       "{'beta_0': array([1, 1, 1, 1, 1]),\n",
       " 'beta_1': array([0, 1, 1, 1, 1]),\n",
       " 'intercept': 1,\n",
       " 'lambda_ard': array([1, 1])}"
      ]
     },
     "execution_count": 8,
     "metadata": {},
     "output_type": "execute_result"
    }
   ],
   "execution_count": 8
  },
  {
   "metadata": {},
   "cell_type": "code",
   "outputs": [],
   "execution_count": null,
   "source": "",
   "id": "5874c4f0bc744dd7"
  }
 ],
 "metadata": {
  "kernelspec": {
   "display_name": "Python 3",
   "language": "python",
   "name": "python3"
  },
  "language_info": {
   "codemirror_mode": {
    "name": "ipython",
    "version": 2
   },
   "file_extension": ".py",
   "mimetype": "text/x-python",
   "name": "python",
   "nbconvert_exporter": "python",
   "pygments_lexer": "ipython2",
   "version": "2.7.6"
  }
 },
 "nbformat": 4,
 "nbformat_minor": 5
}
