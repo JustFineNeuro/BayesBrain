{
 "cells": [
  {
   "cell_type": "code",
   "execution_count": null,
   "id": "initial_id",
   "metadata": {
    "collapsed": true
   },
   "outputs": [],
   "source": [
    "import numpy as np\n",
    "import jax\n",
    "import jax.numpy as jnp\n",
    "import numpyro\n",
    "import numpyro.distributions as dist\n",
    "from numpyro.infer import MCMC, NUTS\n",
    "from numpyro.diagnostics import hpdi\n",
    "\n",
    "import patsy\n",
    "import seaborn as sns\n",
    "import matplotlib.pyplot as plt\n",
    "import arviz as az\n",
    "from GLM import models,datasim,glm"
   ]
  },
  {
   "metadata": {},
   "cell_type": "markdown",
   "source": "Make a data simulator",
   "id": "e1a9cbe34dc7f2a5"
  },
  {
   "metadata": {},
   "cell_type": "code",
   "outputs": [],
   "execution_count": null,
   "source": [
    "sims=datasim.simulate_poisson_grouped()\n",
    "X_dsgn=sims[0]\n",
    "Y=sims[1]"
   ],
   "id": "dfcc1253f4b2e03d"
  },
  {
   "metadata": {},
   "cell_type": "code",
   "outputs": [],
   "execution_count": null,
   "source": [
    "#Make GLM class\n",
    "# FIT WITH INTERACTIONS\n",
    "mod2fitall = glm.PoissonGLMbayes()\n",
    "\n",
    "mod2fitall.add_data(y=jnp.array(Y))\n",
    "\n",
    "# Learn smoothness from data\n",
    "mod2fitall.define_model(model='grouped_ard', basis_x_list=X_dsgn, S_list=None,\n",
    "                          tensor_basis_list=None, S_tensor_list=None)\n",
    "\n",
    "paramglm = {'fittype': 'vi', 'guide': 'normal', 'visteps': 10000, 'optimtype': 'scheduled'}\n",
    "mod2fitall.fit(params=paramglm,  fit_intercept=True, cauchy=0.1)\n",
    "\n",
    "#Got to fix post sampling checking to beta_i * lambda_ard[i]\n",
    "mod2fitall.sample_posterior(5000).summarize_posterior(90).coeff_relevance()\n"
   ],
   "id": "912ed16c66409d6e"
  }
 ],
 "metadata": {
  "kernelspec": {
   "display_name": "Python 3",
   "language": "python",
   "name": "python3"
  },
  "language_info": {
   "codemirror_mode": {
    "name": "ipython",
    "version": 2
   },
   "file_extension": ".py",
   "mimetype": "text/x-python",
   "name": "python",
   "nbconvert_exporter": "python",
   "pygments_lexer": "ipython2",
   "version": "2.7.6"
  }
 },
 "nbformat": 4,
 "nbformat_minor": 5
}
